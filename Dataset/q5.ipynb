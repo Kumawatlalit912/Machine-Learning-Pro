{
 "cells": [
  {
   "cell_type": "code",
   "execution_count": 5,
   "metadata": {
    "colab": {},
    "colab_type": "code",
    "id": "CHxrIZH_QuDO"
   },
   "outputs": [],
   "source": [
    "import numpy as np\n",
    "import pandas as pd\n",
    "import matplotlib.pyplot as plt\n",
    "from mpl_toolkits.mplot3d import Axes3D"
   ]
  },
  {
   "cell_type": "code",
   "execution_count": 49,
   "metadata": {
    "colab": {
     "base_uri": "https://localhost:8080/",
     "height": 195
    },
    "colab_type": "code",
    "id": "B_ORs-0xer0n",
    "outputId": "dac0af30-bbea-4d4d-8f1c-a1a20a92e0e3"
   },
   "outputs": [
    {
     "data": {
      "text/html": [
       "<div>\n",
       "<style scoped>\n",
       "    .dataframe tbody tr th:only-of-type {\n",
       "        vertical-align: middle;\n",
       "    }\n",
       "\n",
       "    .dataframe tbody tr th {\n",
       "        vertical-align: top;\n",
       "    }\n",
       "\n",
       "    .dataframe thead th {\n",
       "        text-align: right;\n",
       "    }\n",
       "</style>\n",
       "<table border=\"1\" class=\"dataframe\">\n",
       "  <thead>\n",
       "    <tr style=\"text-align: right;\">\n",
       "      <th></th>\n",
       "      <th>price</th>\n",
       "      <th>lotsize</th>\n",
       "      <th>bedrooms</th>\n",
       "      <th>bathrms</th>\n",
       "      <th>stories</th>\n",
       "      <th>garagepl</th>\n",
       "    </tr>\n",
       "  </thead>\n",
       "  <tbody>\n",
       "    <tr>\n",
       "      <th>0</th>\n",
       "      <td>-0.978239</td>\n",
       "      <td>0.322732</td>\n",
       "      <td>0.047192</td>\n",
       "      <td>-0.568973</td>\n",
       "      <td>0.221501</td>\n",
       "      <td>0.357239</td>\n",
       "    </tr>\n",
       "    <tr>\n",
       "      <th>1</th>\n",
       "      <td>-1.109312</td>\n",
       "      <td>-0.530526</td>\n",
       "      <td>-1.308947</td>\n",
       "      <td>-0.568973</td>\n",
       "      <td>-0.930304</td>\n",
       "      <td>-0.803788</td>\n",
       "    </tr>\n",
       "    <tr>\n",
       "      <th>2</th>\n",
       "      <td>-0.697368</td>\n",
       "      <td>-0.964074</td>\n",
       "      <td>0.047192</td>\n",
       "      <td>-0.568973</td>\n",
       "      <td>-0.930304</td>\n",
       "      <td>-0.803788</td>\n",
       "    </tr>\n",
       "    <tr>\n",
       "      <th>3</th>\n",
       "      <td>-0.285425</td>\n",
       "      <td>0.691709</td>\n",
       "      <td>0.047192</td>\n",
       "      <td>-0.568973</td>\n",
       "      <td>0.221501</td>\n",
       "      <td>-0.803788</td>\n",
       "    </tr>\n",
       "    <tr>\n",
       "      <th>4</th>\n",
       "      <td>-0.266700</td>\n",
       "      <td>0.557955</td>\n",
       "      <td>-1.308947</td>\n",
       "      <td>-0.568973</td>\n",
       "      <td>-0.930304</td>\n",
       "      <td>-0.803788</td>\n",
       "    </tr>\n",
       "  </tbody>\n",
       "</table>\n",
       "</div>"
      ],
      "text/plain": [
       "      price   lotsize  bedrooms   bathrms   stories  garagepl\n",
       "0 -0.978239  0.322732  0.047192 -0.568973  0.221501  0.357239\n",
       "1 -1.109312 -0.530526 -1.308947 -0.568973 -0.930304 -0.803788\n",
       "2 -0.697368 -0.964074  0.047192 -0.568973 -0.930304 -0.803788\n",
       "3 -0.285425  0.691709  0.047192 -0.568973  0.221501 -0.803788\n",
       "4 -0.266700  0.557955 -1.308947 -0.568973 -0.930304 -0.803788"
      ]
     },
     "execution_count": 49,
     "metadata": {},
     "output_type": "execute_result"
    }
   ],
   "source": [
    "# Fetching data\n",
    "data = pd.read_csv('Housing Price data set.csv')\n",
    "data=data.drop(['Unnamed: 0','driveway','recroom','fullbase','airco','prefarea', 'gashw'],axis=1)\n",
    "# di = {'no': 0, 'yes': 1}\n",
    "# data=data.replace({'driveway':di,'recroom':di,'fullbase':di,'gashw':di,'airco':di,'prefarea':di})\n",
    "mean = data.mean()[0]\n",
    "stddev = data.std()[0]\n",
    "data = (data - data.mean())/data.std()\n",
    "data.head()"
   ]
  },
  {
   "cell_type": "code",
   "execution_count": 51,
   "metadata": {
    "colab": {},
    "colab_type": "code",
    "id": "sFceNVEyQuDj"
   },
   "outputs": [],
   "source": [
    "# Separate out the Feature and Target matrices\n",
    "data=np.asarray(data)\n",
    "Y=data[:,0:1]\n",
    "X=data[:,1:]\n",
    "one = np.ones(len(X))\n",
    "one = [one]\n",
    "one = np.asarray(one)\n",
    "X = np.concatenate((one.T,X),axis=1)\n",
    "split = int(.7 * X.shape[0])\n",
    "X_test = X[split+1:,:]\n",
    "X = X[:split+1, :]\n",
    "Y_test = Y[split+1:,:]\n",
    "Y = Y[:split+1, :]"
   ]
  },
  {
   "cell_type": "code",
   "execution_count": 76,
   "metadata": {
    "colab": {},
    "colab_type": "code",
    "id": "7r4JwRSsQuDm"
   },
   "outputs": [],
   "source": [
    "def computeCost(X,y,theta):\n",
    "    tobesummed = np.power(((X.dot(theta.T))-y),2)\n",
    "    return np.sum(tobesummed)/(2 * len(X))\n",
    "\n",
    "def denormalise_price(price):\n",
    "    global mean\n",
    "    global stddev\n",
    "    ret = price * stddev + mean\n",
    "    return ret\n",
    "\n",
    "def computeError(predicted, actual):\n",
    "    error = 0\n",
    "    for i in range(len(predicted)):\n",
    "        error += abs(actual[i] - predicted[i]) / actual[i]\n",
    "    error /= len(actual)\n",
    "    return error[0]*100"
   ]
  },
  {
   "cell_type": "code",
   "execution_count": 111,
   "metadata": {
    "colab": {},
    "colab_type": "code",
    "id": "JHGN_9F_QuDu"
   },
   "outputs": [],
   "source": [
    "# Gradient Descent\n",
    "def gradientDescent(X,y,theta,iters,alpha):\n",
    "    cost = []\n",
    "    for i in range(iters):\n",
    "        theta = theta - (alpha/len(X)) * np.sum(X * (X @ theta.T - y), axis=0)\n",
    "        cost.append(computeCost(X, y, theta))   \n",
    "    return theta,cost\n"
   ]
  },
  {
   "cell_type": "code",
   "execution_count": 115,
   "metadata": {
    "colab": {
     "base_uri": "https://localhost:8080/",
     "height": 235
    },
    "colab_type": "code",
    "id": "Dd8fiOYBQuDw",
    "outputId": "46943a23-d363-4918-b99d-a2c6b560144b"
   },
   "outputs": [
    {
     "name": "stdout",
     "output_type": "stream",
     "text": [
      "(1, 6)\n",
      "After  1000  iterations and learning rate =  0.5  we get the following Co-efficient matrix : \n",
      "[[-0.03768711  0.43348361  0.05074058  0.28641966  0.26934991  0.19757631]]\n",
      "(1, 6)\n",
      "Cost after training :  0.2326158585544259\n",
      "16.990232558666996\n"
     ]
    }
   ],
   "source": [
    "# Set initial values for hyper-parameters\n",
    "theta = np.zeros([1,X.shape[1]])\n",
    "alpha = 0.5\n",
    "iters = 1000\n",
    "print('After ',iters,' iterations and learning rate = ',alpha,' we get the following Co-efficient matrix : ')\n",
    "# Running the Gradient Descent Function\n",
    "\n",
    "g,cost = gradientDescent(X,Y,theta,iters,alpha)\n",
    "print(g)\n",
    "print(g.shape)\n",
    "# Calculating cost after tuning of hyper Parameters\n",
    "finalCost = computeCost(X,Y,g)\n",
    "error = 0\n",
    "print('Cost after training : ',finalCost)\n",
    "Y_pred = X_test.dot(g.T)\n",
    "error = computeError(denormalise_price(Y_pred),denormalise_price(Y_test))\n",
    "print(error)"
   ]
  },
  {
   "cell_type": "code",
   "execution_count": 84,
   "metadata": {
    "colab": {
     "base_uri": "https://localhost:8080/",
     "height": 310
    },
    "colab_type": "code",
    "id": "yqu9KZO_QuD0",
    "outputId": "3cf2dd09-bd42-4343-b142-dc1b65ac20e9"
   },
   "outputs": [
    {
     "data": {
      "text/plain": [
       "Text(0.5, 1.0, 'Cost vs. Training Epoch')"
      ]
     },
     "execution_count": 84,
     "metadata": {},
     "output_type": "execute_result"
    },
    {
     "data": {
      "image/png": "[encoded data removed]",
      "text/plain": [
       "<Figure size 432x288 with 1 Axes>"
      ]
     },
     "metadata": {
      "needs_background": "light"
     },
     "output_type": "display_data"
    }
   ],
   "source": [
    "# Iteration vs Error(Cost) plot\n",
    "fig, ax = plt.subplots()  \n",
    "ax.plot(np.arange(iters), cost, 'r')  \n",
    "ax.set_xlabel('Iterations') \n",
    "ax.set_ylabel('Cost')  \n",
    "ax.set_title('Cost vs. Training Epoch') "
   ]
  },
  {
   "cell_type": "code",
   "execution_count": 78,
   "metadata": {
    "colab": {
     "base_uri": "https://localhost:8080/",
     "height": 229
    },
    "colab_type": "code",
    "id": "9weddsqCQuD4",
    "outputId": "9b376078-a557-443d-9692-c15e702b5a79"
   },
   "outputs": [
    {
     "name": "stdout",
     "output_type": "stream",
     "text": [
      "Co-efficient matrix after applying Normal Equation : \n",
      "[[-0.03768711  0.43348361  0.05074058  0.28641966  0.26934991  0.19757631]]\n",
      "Cost after applying Normal Equation :  0.23261585855442593\n",
      "16.99023255866699\n"
     ]
    }
   ],
   "source": [
    "# Normal Equation\n",
    "theta_norm = np.linalg.inv(X.T.dot(X)).dot(X.T).dot(Y)\n",
    "print(\"Co-efficient matrix after applying Normal Equation : \")\n",
    "print(theta_norm.T)\n",
    "\n",
    "finalCost_norm = computeCost(X,Y,theta_norm.T)\n",
    "print(\"Cost after applying Normal Equation : \",finalCost_norm)\n",
    "\n",
    "Y_pred = X_test.dot(theta_norm)\n",
    "error = computeError(denormalise_price(Y_pred),denormalise_price(Y_test))\n",
    "print(error)"
   ]
  },
  {
   "cell_type": "code",
   "execution_count": 71,
   "metadata": {
    "colab": {
     "base_uri": "https://localhost:8080/",
     "height": 50
    },
    "colab_type": "code",
    "id": "WHUiXxEcQuD8",
    "outputId": "2162aa06-8b40-4883-dd6b-594bfbb1a107"
   },
   "outputs": [
    {
     "name": "stdout",
     "output_type": "stream",
     "text": [
      "Difference in Final Cost for Normal Equation and Gradient Descent(learning rate= 0.5 ,iterations= 1000 ) : \n",
      "2.7755575615628914e-17\n"
     ]
    }
   ],
   "source": [
    "print(\"Difference in Final Cost for Normal Equation and Gradient Descent(learning rate=\",alpha,\",iterations=\",iters,\") : \")\n",
    "print(abs(finalCost_norm-finalCost))"
   ]
  }
 ],
 "metadata": {
  "colab": {
   "collapsed_sections": [],
   "name": "Assgn1_ques5.ipynb",
   "provenance": [],
   "version": "0.3.2"
  },
  "kernelspec": {
   "display_name": "Python 3",
   "language": "python",
   "name": "python3"
  },
  "language_info": {
   "codemirror_mode": {
    "name": "ipython",
    "version": 3
   },
   "file_extension": ".py",
   "mimetype": "text/x-python",
   "name": "python",
   "nbconvert_exporter": "python",
   "pygments_lexer": "ipython3",
   "version": "3.6.5"
  }
 },
 "nbformat": 4,
 "nbformat_minor": 1
}
